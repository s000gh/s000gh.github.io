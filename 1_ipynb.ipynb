{
  "nbformat": 4,
  "nbformat_minor": 0,
  "metadata": {
    "colab": {
      "provenance": [],
      "authorship_tag": "ABX9TyOyP4wd4WWu0mGbCzTEI27k"
    },
    "kernelspec": {
      "name": "python3",
      "display_name": "Python 3"
    },
    "language_info": {
      "name": "python"
    }
  },
  "cells": [
    {
      "cell_type": "code",
      "execution_count": 22,
      "metadata": {
        "colab": {
          "base_uri": "https://localhost:8080/"
        },
        "id": "9bCo8-p4HbQC",
        "outputId": "509de4c4-44bf-42cd-cb9d-384d2ada47cc"
      },
      "outputs": [
        {
          "output_type": "stream",
          "name": "stdout",
          "text": [
            "12345\n"
          ]
        }
      ],
      "source": [
        "'''with open('test.txt', 'w') as f:\n",
        "  f.write('12345')'''\n",
        "\n",
        "with open('test.txt', 'r') as f:\n",
        "  print(f.read())\n",
        "\n"
      ]
    },
    {
      "cell_type": "markdown",
      "source": [],
      "metadata": {
        "id": "2sOKvLDiHwSa"
      }
    },
    {
      "cell_type": "code",
      "source": [
        "!git push -u origin main"
      ],
      "metadata": {
        "id": "xt7ZEDWzHh_h",
        "colab": {
          "base_uri": "https://localhost:8080/"
        },
        "outputId": "4069f9da-673e-4010-d40f-2971855eed1e"
      },
      "execution_count": 16,
      "outputs": [
        {
          "output_type": "stream",
          "name": "stdout",
          "text": [
            "remote: Support for password authentication was removed on August 13, 2021.\n",
            "remote: Please see https://docs.github.com/get-started/getting-started-with-git/about-remote-repositories#cloning-with-https-urls for information on currently recommended modes of authentication.\n",
            "fatal: Authentication failed for 'https://github.com/s000gh/rep.git/'\n"
          ]
        }
      ]
    }
  ]
}
